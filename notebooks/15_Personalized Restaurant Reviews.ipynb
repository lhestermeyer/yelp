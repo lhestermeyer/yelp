{
 "cells": [
  {
   "cell_type": "code",
   "execution_count": 1,
   "id": "db201c3d-e404-4141-b486-c58cdb75737c",
   "metadata": {},
   "outputs": [],
   "source": [
    "import pandas as pd\n",
    "import numpy as np"
   ]
  },
  {
   "cell_type": "code",
   "execution_count": 3,
   "id": "5e2012fe-aa25-4300-a632-7bfd5cab36cb",
   "metadata": {},
   "outputs": [],
   "source": [
    "size = 10000\n",
    "user_chunks = pd.read_json('../data/yelp_academic_dataset_user.json', lines=True,\n",
    "                    dtype = {\n",
    "                        \"review_count\": np.int16,\n",
    "                        \"useful\": np.int16,\n",
    "                        \"funny\": np.int16,\n",
    "                        \"cool\": np.int16,\n",
    "                        \"fans\": np.int16,\n",
    "                        \"average_stars\": np.float32, # calculations are done on float32 anyways for float16\n",
    "                        \"compliment_hot\": np.int16,\n",
    "                        \"compliment_more\": np.int16,\n",
    "                        \"compliment_profile\": np.int16,\n",
    "                        \"compliment_cute\": np.int16,\n",
    "                        \"compliment_list\": np.int16,\n",
    "                        \"compliment_note\": np.int16,\n",
    "                        \"compliment_plain\": np.int16,\n",
    "                        \"compliment_cool\": np.int16,\n",
    "                        \"compliment_funny\": np.int16,\n",
    "                        \"compliment_writer\": np.int16,\n",
    "                        \"compliment_photos\": np.int16\n",
    "                    }, chunksize=size)"
   ]
  },
  {
   "cell_type": "code",
   "execution_count": 4,
   "id": "58d62352-23ab-4579-87b7-85093be7a671",
   "metadata": {},
   "outputs": [],
   "source": [
    "chunk_list = []\n",
    "for chunk in user_chunks:\n",
    "    # only keep tips of current or former elite users.\n",
    "    # chunk = chunk[chunk.user_id.isin(elite_user_ids)]\n",
    "    \n",
    "    chunk_list.append(chunk)\n",
    "    break\n",
    "user = pd.concat(chunk_list, ignore_index=True, join='outer', axis=0)"
   ]
  },
  {
   "cell_type": "code",
   "execution_count": 19,
   "id": "b724cfe1-1639-46f4-a6af-a2e4d8711cca",
   "metadata": {},
   "outputs": [
    {
     "data": {
      "text/plain": [
       "user_id                                          hizGc5W1tBHPghM5YKCAtg\n",
       "name                                                              Katie\n",
       "review_count                                                       1754\n",
       "yelping_since                                       2009-05-22 20:19:55\n",
       "useful                                                           -19002\n",
       "funny                                                             31112\n",
       "cool                                                             -27572\n",
       "elite                 2009,2010,2011,2012,2013,2014,2015,2016,2017,2...\n",
       "friends               U_U0yg03tOYHQlnCQhZAZg, ffarmP6gowdXoTxQARKU7A...\n",
       "fans                                                               3511\n",
       "average_stars                                                      4.23\n",
       "compliment_hot                                                     6560\n",
       "compliment_more                                                     424\n",
       "compliment_profile                                                  416\n",
       "compliment_cute                                                     373\n",
       "compliment_list                                                     252\n",
       "compliment_note                                                    3104\n",
       "compliment_plain                                                  17426\n",
       "compliment_cool                                                    7769\n",
       "compliment_funny                                                   7769\n",
       "compliment_writer                                                  2524\n",
       "compliment_photos                                                  1620\n",
       "Name: 343, dtype: object"
      ]
     },
     "execution_count": 19,
     "metadata": {},
     "output_type": "execute_result"
    }
   ],
   "source": [
    "user.iloc[343]"
   ]
  },
  {
   "cell_type": "code",
   "execution_count": 18,
   "id": "d4414439-43d0-4936-b6e0-0c4e616dfbe0",
   "metadata": {},
   "outputs": [
    {
     "data": {
      "text/plain": [
       "8024        22\n",
       "8273        22\n",
       "8330        22\n",
       "1701        22\n",
       "6221        22\n",
       "         ...  \n",
       "530     177670\n",
       "5524    179206\n",
       "2516    192886\n",
       "305     210670\n",
       "343     214366\n",
       "Name: friends, Length: 10000, dtype: int64"
      ]
     },
     "execution_count": 18,
     "metadata": {},
     "output_type": "execute_result"
    }
   ],
   "source": [
    "user.friends.map(len).sort_values()"
   ]
  },
  {
   "cell_type": "markdown",
   "id": "648c8a39-36b0-4d90-9b63-ebd3943dc934",
   "metadata": {},
   "source": [
    "# Read businesses\n",
    "Keep only true restaurants"
   ]
  },
  {
   "cell_type": "code",
   "execution_count": 15,
   "id": "8885b944-af4e-46f4-a7c1-feae36607192",
   "metadata": {},
   "outputs": [],
   "source": [
    "size = 100000\n",
    "business_chunks = pd.read_json('../data/yelp_academic_dataset_business.json', lines=True,\n",
    "                    dtype={\n",
    "                        \"business_id\": str,\n",
    "                        \"name\": str,\n",
    "                        \"address\": str,\n",
    "                        \"city\": str,\n",
    "                        \"state\": str,\n",
    "                        \"postal code\": str,\n",
    "                        \"latitude\": float,\n",
    "                        \"longitude\": float,\n",
    "                        \"stars\": float,\n",
    "                        \"review_count\": int,\n",
    "                        \"is_open\": int\n",
    "                    }, chunksize=size)\n",
    "\n",
    "chunk_list = []\n",
    "for chunk in business_chunks:\n",
    "    chunk = chunk[chunk['categories'].notnull()]\n",
    "    \n",
    "    # only keep restaurants\n",
    "    chunk = chunk.loc[[('Restaurant' in x) for x in chunk['categories']]]\n",
    "    \n",
    "    # only certain columns\n",
    "    # chunk = chunk[['business_id', 'name','stars', 'is_open','review_count']]\n",
    "    \n",
    "    chunk_list.append(chunk)\n",
    "\n",
    "restaurants = pd.concat(chunk_list, ignore_index=True, join='outer', axis=0)\n"
   ]
  },
  {
   "cell_type": "code",
   "execution_count": 16,
   "id": "c9718b06-4054-49af-bc47-f2eb490aee1a",
   "metadata": {},
   "outputs": [
    {
     "data": {
      "text/html": [
       "<div>\n",
       "<style scoped>\n",
       "    .dataframe tbody tr th:only-of-type {\n",
       "        vertical-align: middle;\n",
       "    }\n",
       "\n",
       "    .dataframe tbody tr th {\n",
       "        vertical-align: top;\n",
       "    }\n",
       "\n",
       "    .dataframe thead th {\n",
       "        text-align: right;\n",
       "    }\n",
       "</style>\n",
       "<table border=\"1\" class=\"dataframe\">\n",
       "  <thead>\n",
       "    <tr style=\"text-align: right;\">\n",
       "      <th></th>\n",
       "      <th>business_id</th>\n",
       "      <th>name</th>\n",
       "      <th>address</th>\n",
       "      <th>city</th>\n",
       "      <th>state</th>\n",
       "      <th>postal_code</th>\n",
       "      <th>latitude</th>\n",
       "      <th>longitude</th>\n",
       "      <th>stars</th>\n",
       "      <th>review_count</th>\n",
       "      <th>is_open</th>\n",
       "      <th>attributes</th>\n",
       "      <th>categories</th>\n",
       "      <th>hours</th>\n",
       "    </tr>\n",
       "  </thead>\n",
       "  <tbody>\n",
       "    <tr>\n",
       "      <th>0</th>\n",
       "      <td>6iYb2HFDywm3zjuRg0shjw</td>\n",
       "      <td>Oskar Blues Taproom</td>\n",
       "      <td>921 Pearl St</td>\n",
       "      <td>Boulder</td>\n",
       "      <td>CO</td>\n",
       "      <td>80302</td>\n",
       "      <td>40.017544</td>\n",
       "      <td>-105.283348</td>\n",
       "      <td>4.0</td>\n",
       "      <td>86</td>\n",
       "      <td>1</td>\n",
       "      <td>{'RestaurantsTableService': 'True', 'WiFi': 'u...</td>\n",
       "      <td>Gastropubs, Food, Beer Gardens, Restaurants, B...</td>\n",
       "      <td>{'Monday': '11:0-23:0', 'Tuesday': '11:0-23:0'...</td>\n",
       "    </tr>\n",
       "    <tr>\n",
       "      <th>1</th>\n",
       "      <td>tCbdrRPZA0oiIYSmHG3J0w</td>\n",
       "      <td>Flying Elephants at PDX</td>\n",
       "      <td>7000 NE Airport Way</td>\n",
       "      <td>Portland</td>\n",
       "      <td>OR</td>\n",
       "      <td>97218</td>\n",
       "      <td>45.588906</td>\n",
       "      <td>-122.593331</td>\n",
       "      <td>4.0</td>\n",
       "      <td>126</td>\n",
       "      <td>1</td>\n",
       "      <td>{'RestaurantsTakeOut': 'True', 'RestaurantsAtt...</td>\n",
       "      <td>Salad, Soup, Sandwiches, Delis, Restaurants, C...</td>\n",
       "      <td>{'Monday': '5:0-18:0', 'Tuesday': '5:0-17:0', ...</td>\n",
       "    </tr>\n",
       "    <tr>\n",
       "      <th>2</th>\n",
       "      <td>D4JtQNTI4X3KcbzacDJsMw</td>\n",
       "      <td>Bob Likes Thai Food</td>\n",
       "      <td>3755 Main St</td>\n",
       "      <td>Vancouver</td>\n",
       "      <td>BC</td>\n",
       "      <td>V5V</td>\n",
       "      <td>49.251342</td>\n",
       "      <td>-123.101333</td>\n",
       "      <td>3.5</td>\n",
       "      <td>169</td>\n",
       "      <td>1</td>\n",
       "      <td>{'GoodForKids': 'True', 'Alcohol': 'u'none'', ...</td>\n",
       "      <td>Restaurants, Thai</td>\n",
       "      <td>{'Monday': '17:0-21:0', 'Tuesday': '17:0-21:0'...</td>\n",
       "    </tr>\n",
       "    <tr>\n",
       "      <th>3</th>\n",
       "      <td>jFYIsSb7r1QeESVUnXPHBw</td>\n",
       "      <td>Boxwood Biscuit</td>\n",
       "      <td>740 S High St</td>\n",
       "      <td>Columbus</td>\n",
       "      <td>OH</td>\n",
       "      <td>43206</td>\n",
       "      <td>39.947007</td>\n",
       "      <td>-82.997471</td>\n",
       "      <td>4.5</td>\n",
       "      <td>11</td>\n",
       "      <td>1</td>\n",
       "      <td>None</td>\n",
       "      <td>Breakfast &amp; Brunch, Restaurants</td>\n",
       "      <td>{'Saturday': '8:0-14:0', 'Sunday': '8:0-14:0'}</td>\n",
       "    </tr>\n",
       "    <tr>\n",
       "      <th>4</th>\n",
       "      <td>HPA_qyMEddpAEtFof02ixg</td>\n",
       "      <td>Mr G's Pizza &amp; Subs</td>\n",
       "      <td>474 Lowell St</td>\n",
       "      <td>Peabody</td>\n",
       "      <td>MA</td>\n",
       "      <td>01960</td>\n",
       "      <td>42.541155</td>\n",
       "      <td>-70.973438</td>\n",
       "      <td>4.0</td>\n",
       "      <td>39</td>\n",
       "      <td>1</td>\n",
       "      <td>{'RestaurantsGoodForGroups': 'True', 'HasTV': ...</td>\n",
       "      <td>Food, Pizza, Restaurants</td>\n",
       "      <td>{'Monday': '11:0-21:0', 'Tuesday': '11:0-21:0'...</td>\n",
       "    </tr>\n",
       "  </tbody>\n",
       "</table>\n",
       "</div>"
      ],
      "text/plain": [
       "              business_id                     name              address  \\\n",
       "0  6iYb2HFDywm3zjuRg0shjw      Oskar Blues Taproom         921 Pearl St   \n",
       "1  tCbdrRPZA0oiIYSmHG3J0w  Flying Elephants at PDX  7000 NE Airport Way   \n",
       "2  D4JtQNTI4X3KcbzacDJsMw      Bob Likes Thai Food         3755 Main St   \n",
       "3  jFYIsSb7r1QeESVUnXPHBw          Boxwood Biscuit        740 S High St   \n",
       "4  HPA_qyMEddpAEtFof02ixg      Mr G's Pizza & Subs        474 Lowell St   \n",
       "\n",
       "        city state postal_code   latitude   longitude  stars  review_count  \\\n",
       "0    Boulder    CO       80302  40.017544 -105.283348    4.0            86   \n",
       "1   Portland    OR       97218  45.588906 -122.593331    4.0           126   \n",
       "2  Vancouver    BC         V5V  49.251342 -123.101333    3.5           169   \n",
       "3   Columbus    OH       43206  39.947007  -82.997471    4.5            11   \n",
       "4    Peabody    MA       01960  42.541155  -70.973438    4.0            39   \n",
       "\n",
       "   is_open                                         attributes  \\\n",
       "0        1  {'RestaurantsTableService': 'True', 'WiFi': 'u...   \n",
       "1        1  {'RestaurantsTakeOut': 'True', 'RestaurantsAtt...   \n",
       "2        1  {'GoodForKids': 'True', 'Alcohol': 'u'none'', ...   \n",
       "3        1                                               None   \n",
       "4        1  {'RestaurantsGoodForGroups': 'True', 'HasTV': ...   \n",
       "\n",
       "                                          categories  \\\n",
       "0  Gastropubs, Food, Beer Gardens, Restaurants, B...   \n",
       "1  Salad, Soup, Sandwiches, Delis, Restaurants, C...   \n",
       "2                                  Restaurants, Thai   \n",
       "3                    Breakfast & Brunch, Restaurants   \n",
       "4                           Food, Pizza, Restaurants   \n",
       "\n",
       "                                               hours  \n",
       "0  {'Monday': '11:0-23:0', 'Tuesday': '11:0-23:0'...  \n",
       "1  {'Monday': '5:0-18:0', 'Tuesday': '5:0-17:0', ...  \n",
       "2  {'Monday': '17:0-21:0', 'Tuesday': '17:0-21:0'...  \n",
       "3     {'Saturday': '8:0-14:0', 'Sunday': '8:0-14:0'}  \n",
       "4  {'Monday': '11:0-21:0', 'Tuesday': '11:0-21:0'...  "
      ]
     },
     "execution_count": 16,
     "metadata": {},
     "output_type": "execute_result"
    }
   ],
   "source": [
    "restaurants.head()"
   ]
  },
  {
   "cell_type": "code",
   "execution_count": 17,
   "id": "7977afcc-97ea-4a3a-adf6-37a499dc7aae",
   "metadata": {},
   "outputs": [
    {
     "data": {
      "text/plain": [
       "(50793, 14)"
      ]
     },
     "execution_count": 17,
     "metadata": {},
     "output_type": "execute_result"
    }
   ],
   "source": [
    "restaurants.shape"
   ]
  },
  {
   "cell_type": "code",
   "execution_count": 29,
   "id": "46885bc8-c035-42fb-a844-472ff4cddeb7",
   "metadata": {},
   "outputs": [],
   "source": [
    "restaurants.to_pickle('../data/restaurants.pkl')"
   ]
  },
  {
   "cell_type": "code",
   "execution_count": 23,
   "id": "60bc8c96-bd45-463c-a5ec-28f9ad00e6aa",
   "metadata": {},
   "outputs": [],
   "source": [
    "attributes = list(set([attribute for attributes in restaurants.attributes.values  if attributes is not None for attribute in attributes]))"
   ]
  },
  {
   "cell_type": "markdown",
   "id": "c2f26572-c411-417e-8bcf-2b651d53cfa8",
   "metadata": {},
   "source": [
    "# Read Reviews"
   ]
  },
  {
   "cell_type": "code",
   "execution_count": 25,
   "id": "75929f13-ab74-439f-ab11-da1a3c34a49f",
   "metadata": {},
   "outputs": [],
   "source": [
    "restaurant_ids = restaurants.business_id.values"
   ]
  },
  {
   "cell_type": "code",
   "execution_count": 26,
   "id": "3602b2d5-9b20-4f7d-bdb3-b955de6050b4",
   "metadata": {},
   "outputs": [],
   "source": [
    "size = 1000000\n",
    "review_chunks = pd.read_json('../data/yelp_academic_dataset_review.json', lines=True,\n",
    "                    dtype={\n",
    "                    \"review_id\": str,\n",
    "                    \"user_id\": str,\n",
    "                    \"business_id\": str,\n",
    "                    \"stars\": int,\n",
    "                    \"date\": str,\n",
    "                    \"text\": str,\n",
    "                    \"useful\": int,\n",
    "                    \"funny\": int,\n",
    "                    \"cool\": int,\n",
    "                }, chunksize=size)\n",
    "\n",
    "chunk_list = []\n",
    "for chunk in review_chunks:\n",
    "    # only keep tips of current or former elite users.\n",
    "    chunk = chunk[chunk.business_id.isin(restaurant_ids)]\n",
    "    chunk_list.append(chunk)\n",
    "\n",
    "reviews = pd.concat(chunk_list, ignore_index=True, join='outer', axis=0)"
   ]
  },
  {
   "cell_type": "code",
   "execution_count": 27,
   "id": "6b3047ab-00e1-45ea-bbb4-e6696b4aeec0",
   "metadata": {},
   "outputs": [
    {
     "data": {
      "text/plain": [
       "(5575349, 9)"
      ]
     },
     "execution_count": 27,
     "metadata": {},
     "output_type": "execute_result"
    }
   ],
   "source": [
    "reviews.shape"
   ]
  },
  {
   "cell_type": "code",
   "execution_count": 30,
   "id": "17f98b4b-9f63-4cde-b5f1-6a11951b1806",
   "metadata": {
    "collapsed": true,
    "jupyter": {
     "outputs_hidden": true
    },
    "tags": []
   },
   "outputs": [
    {
     "name": "stderr",
     "output_type": "stream",
     "text": [
      "ERROR:root:Internal Python error in the inspect module.\n",
      "Below is the traceback from this internal error.\n",
      "\n"
     ]
    },
    {
     "name": "stdout",
     "output_type": "stream",
     "text": [
      "Traceback (most recent call last):\n",
      "  File \"C:\\ProgramData\\Anaconda3\\envs\\yelp\\lib\\site-packages\\IPython\\core\\interactiveshell.py\", line 3444, in run_code\n",
      "    exec(code_obj, self.user_global_ns, self.user_ns)\n",
      "  File \"C:\\Users\\lukas\\AppData\\Local\\Temp/ipykernel_6496/2807565378.py\", line 1, in <module>\n",
      "    reviews.to_pickle('../data/restaurant_reviews.pkl')\n",
      "  File \"C:\\ProgramData\\Anaconda3\\envs\\yelp\\lib\\site-packages\\pandas\\core\\generic.py\", line 2957, in to_pickle\n",
      "    to_pickle(\n",
      "  File \"C:\\ProgramData\\Anaconda3\\envs\\yelp\\lib\\site-packages\\pandas\\io\\pickle.py\", line 113, in to_pickle\n",
      "    pickle.dump(\n",
      "KeyboardInterrupt\n",
      "\n",
      "During handling of the above exception, another exception occurred:\n",
      "\n",
      "Traceback (most recent call last):\n",
      "  File \"C:\\ProgramData\\Anaconda3\\envs\\yelp\\lib\\site-packages\\IPython\\core\\interactiveshell.py\", line 2064, in showtraceback\n",
      "    stb = value._render_traceback_()\n",
      "AttributeError: 'KeyboardInterrupt' object has no attribute '_render_traceback_'\n",
      "\n",
      "During handling of the above exception, another exception occurred:\n",
      "\n",
      "Traceback (most recent call last):\n",
      "  File \"C:\\ProgramData\\Anaconda3\\envs\\yelp\\lib\\site-packages\\IPython\\core\\ultratb.py\", line 1101, in get_records\n",
      "    return _fixed_getinnerframes(etb, number_of_lines_of_context, tb_offset)\n",
      "  File \"C:\\ProgramData\\Anaconda3\\envs\\yelp\\lib\\site-packages\\IPython\\core\\ultratb.py\", line 248, in wrapped\n",
      "    return f(*args, **kwargs)\n",
      "  File \"C:\\ProgramData\\Anaconda3\\envs\\yelp\\lib\\site-packages\\IPython\\core\\ultratb.py\", line 281, in _fixed_getinnerframes\n",
      "    records = fix_frame_records_filenames(inspect.getinnerframes(etb, context))\n",
      "  File \"C:\\ProgramData\\Anaconda3\\envs\\yelp\\lib\\inspect.py\", line 1515, in getinnerframes\n",
      "    frameinfo = (tb.tb_frame,) + getframeinfo(tb, context)\n",
      "  File \"C:\\ProgramData\\Anaconda3\\envs\\yelp\\lib\\inspect.py\", line 1473, in getframeinfo\n",
      "    filename = getsourcefile(frame) or getfile(frame)\n",
      "  File \"C:\\ProgramData\\Anaconda3\\envs\\yelp\\lib\\inspect.py\", line 708, in getsourcefile\n",
      "    if getattr(getmodule(object, filename), '__loader__', None) is not None:\n",
      "  File \"C:\\ProgramData\\Anaconda3\\envs\\yelp\\lib\\inspect.py\", line 746, in getmodule\n",
      "    f = module.__file__\n",
      "KeyboardInterrupt\n"
     ]
    },
    {
     "ename": "TypeError",
     "evalue": "object of type 'NoneType' has no len()",
     "output_type": "error",
     "traceback": [
      "\u001b[1;31m---------------------------------------------------------------------------\u001b[0m",
      "\u001b[1;31mKeyboardInterrupt\u001b[0m                         Traceback (most recent call last)",
      "    \u001b[1;31m[... skipping hidden 1 frame]\u001b[0m\n",
      "\u001b[1;32m~\\AppData\\Local\\Temp/ipykernel_6496/2807565378.py\u001b[0m in \u001b[0;36m<module>\u001b[1;34m\u001b[0m\n\u001b[1;32m----> 1\u001b[1;33m \u001b[0mreviews\u001b[0m\u001b[1;33m.\u001b[0m\u001b[0mto_pickle\u001b[0m\u001b[1;33m(\u001b[0m\u001b[1;34m'../data/restaurant_reviews.pkl'\u001b[0m\u001b[1;33m)\u001b[0m\u001b[1;33m\u001b[0m\u001b[1;33m\u001b[0m\u001b[0m\n\u001b[0m",
      "\u001b[1;32mC:\\ProgramData\\Anaconda3\\envs\\yelp\\lib\\site-packages\\pandas\\core\\generic.py\u001b[0m in \u001b[0;36mto_pickle\u001b[1;34m(self, path, compression, protocol, storage_options)\u001b[0m\n\u001b[0;32m   2956\u001b[0m \u001b[1;33m\u001b[0m\u001b[0m\n\u001b[1;32m-> 2957\u001b[1;33m         to_pickle(\n\u001b[0m\u001b[0;32m   2958\u001b[0m             \u001b[0mself\u001b[0m\u001b[1;33m,\u001b[0m\u001b[1;33m\u001b[0m\u001b[1;33m\u001b[0m\u001b[0m\n",
      "\u001b[1;32mC:\\ProgramData\\Anaconda3\\envs\\yelp\\lib\\site-packages\\pandas\\io\\pickle.py\u001b[0m in \u001b[0;36mto_pickle\u001b[1;34m(obj, filepath_or_buffer, compression, protocol, storage_options)\u001b[0m\n\u001b[0;32m    112\u001b[0m             \u001b[1;31m# letting pickle write directly to the buffer is more memory-efficient\u001b[0m\u001b[1;33m\u001b[0m\u001b[1;33m\u001b[0m\u001b[1;33m\u001b[0m\u001b[0m\n\u001b[1;32m--> 113\u001b[1;33m             pickle.dump(\n\u001b[0m\u001b[0;32m    114\u001b[0m                 \u001b[1;31m# error: Argument 2 to \"dump\" has incompatible type \"Union[IO[Any],\u001b[0m\u001b[1;33m\u001b[0m\u001b[1;33m\u001b[0m\u001b[1;33m\u001b[0m\u001b[0m\n",
      "\u001b[1;31mKeyboardInterrupt\u001b[0m: ",
      "\nDuring handling of the above exception, another exception occurred:\n",
      "\u001b[1;31mAttributeError\u001b[0m                            Traceback (most recent call last)",
      "\u001b[1;32mC:\\ProgramData\\Anaconda3\\envs\\yelp\\lib\\site-packages\\IPython\\core\\interactiveshell.py\u001b[0m in \u001b[0;36mshowtraceback\u001b[1;34m(self, exc_tuple, filename, tb_offset, exception_only, running_compiled_code)\u001b[0m\n\u001b[0;32m   2063\u001b[0m                         \u001b[1;31m# in the engines. This should return a list of strings.\u001b[0m\u001b[1;33m\u001b[0m\u001b[1;33m\u001b[0m\u001b[1;33m\u001b[0m\u001b[0m\n\u001b[1;32m-> 2064\u001b[1;33m                         \u001b[0mstb\u001b[0m \u001b[1;33m=\u001b[0m \u001b[0mvalue\u001b[0m\u001b[1;33m.\u001b[0m\u001b[0m_render_traceback_\u001b[0m\u001b[1;33m(\u001b[0m\u001b[1;33m)\u001b[0m\u001b[1;33m\u001b[0m\u001b[1;33m\u001b[0m\u001b[0m\n\u001b[0m\u001b[0;32m   2065\u001b[0m                     \u001b[1;32mexcept\u001b[0m \u001b[0mException\u001b[0m\u001b[1;33m:\u001b[0m\u001b[1;33m\u001b[0m\u001b[1;33m\u001b[0m\u001b[0m\n",
      "\u001b[1;31mAttributeError\u001b[0m: 'KeyboardInterrupt' object has no attribute '_render_traceback_'",
      "\nDuring handling of the above exception, another exception occurred:\n",
      "\u001b[1;31mTypeError\u001b[0m                                 Traceback (most recent call last)",
      "    \u001b[1;31m[... skipping hidden 1 frame]\u001b[0m\n",
      "\u001b[1;32mC:\\ProgramData\\Anaconda3\\envs\\yelp\\lib\\site-packages\\IPython\\core\\interactiveshell.py\u001b[0m in \u001b[0;36mshowtraceback\u001b[1;34m(self, exc_tuple, filename, tb_offset, exception_only, running_compiled_code)\u001b[0m\n\u001b[0;32m   2064\u001b[0m                         \u001b[0mstb\u001b[0m \u001b[1;33m=\u001b[0m \u001b[0mvalue\u001b[0m\u001b[1;33m.\u001b[0m\u001b[0m_render_traceback_\u001b[0m\u001b[1;33m(\u001b[0m\u001b[1;33m)\u001b[0m\u001b[1;33m\u001b[0m\u001b[1;33m\u001b[0m\u001b[0m\n\u001b[0;32m   2065\u001b[0m                     \u001b[1;32mexcept\u001b[0m \u001b[0mException\u001b[0m\u001b[1;33m:\u001b[0m\u001b[1;33m\u001b[0m\u001b[1;33m\u001b[0m\u001b[0m\n\u001b[1;32m-> 2066\u001b[1;33m                         stb = self.InteractiveTB.structured_traceback(etype,\n\u001b[0m\u001b[0;32m   2067\u001b[0m                                             value, tb, tb_offset=tb_offset)\n\u001b[0;32m   2068\u001b[0m \u001b[1;33m\u001b[0m\u001b[0m\n",
      "\u001b[1;32mC:\\ProgramData\\Anaconda3\\envs\\yelp\\lib\\site-packages\\IPython\\core\\ultratb.py\u001b[0m in \u001b[0;36mstructured_traceback\u001b[1;34m(self, etype, value, tb, tb_offset, number_of_lines_of_context)\u001b[0m\n\u001b[0;32m   1365\u001b[0m         \u001b[1;32melse\u001b[0m\u001b[1;33m:\u001b[0m\u001b[1;33m\u001b[0m\u001b[1;33m\u001b[0m\u001b[0m\n\u001b[0;32m   1366\u001b[0m             \u001b[0mself\u001b[0m\u001b[1;33m.\u001b[0m\u001b[0mtb\u001b[0m \u001b[1;33m=\u001b[0m \u001b[0mtb\u001b[0m\u001b[1;33m\u001b[0m\u001b[1;33m\u001b[0m\u001b[0m\n\u001b[1;32m-> 1367\u001b[1;33m         return FormattedTB.structured_traceback(\n\u001b[0m\u001b[0;32m   1368\u001b[0m             self, etype, value, tb, tb_offset, number_of_lines_of_context)\n\u001b[0;32m   1369\u001b[0m \u001b[1;33m\u001b[0m\u001b[0m\n",
      "\u001b[1;32mC:\\ProgramData\\Anaconda3\\envs\\yelp\\lib\\site-packages\\IPython\\core\\ultratb.py\u001b[0m in \u001b[0;36mstructured_traceback\u001b[1;34m(self, etype, value, tb, tb_offset, number_of_lines_of_context)\u001b[0m\n\u001b[0;32m   1265\u001b[0m         \u001b[1;32mif\u001b[0m \u001b[0mmode\u001b[0m \u001b[1;32min\u001b[0m \u001b[0mself\u001b[0m\u001b[1;33m.\u001b[0m\u001b[0mverbose_modes\u001b[0m\u001b[1;33m:\u001b[0m\u001b[1;33m\u001b[0m\u001b[1;33m\u001b[0m\u001b[0m\n\u001b[0;32m   1266\u001b[0m             \u001b[1;31m# Verbose modes need a full traceback\u001b[0m\u001b[1;33m\u001b[0m\u001b[1;33m\u001b[0m\u001b[1;33m\u001b[0m\u001b[0m\n\u001b[1;32m-> 1267\u001b[1;33m             return VerboseTB.structured_traceback(\n\u001b[0m\u001b[0;32m   1268\u001b[0m                 \u001b[0mself\u001b[0m\u001b[1;33m,\u001b[0m \u001b[0metype\u001b[0m\u001b[1;33m,\u001b[0m \u001b[0mvalue\u001b[0m\u001b[1;33m,\u001b[0m \u001b[0mtb\u001b[0m\u001b[1;33m,\u001b[0m \u001b[0mtb_offset\u001b[0m\u001b[1;33m,\u001b[0m \u001b[0mnumber_of_lines_of_context\u001b[0m\u001b[1;33m\u001b[0m\u001b[1;33m\u001b[0m\u001b[0m\n\u001b[0;32m   1269\u001b[0m             )\n",
      "\u001b[1;32mC:\\ProgramData\\Anaconda3\\envs\\yelp\\lib\\site-packages\\IPython\\core\\ultratb.py\u001b[0m in \u001b[0;36mstructured_traceback\u001b[1;34m(self, etype, evalue, etb, tb_offset, number_of_lines_of_context)\u001b[0m\n\u001b[0;32m   1122\u001b[0m         \u001b[1;34m\"\"\"Return a nice text document describing the traceback.\"\"\"\u001b[0m\u001b[1;33m\u001b[0m\u001b[1;33m\u001b[0m\u001b[0m\n\u001b[0;32m   1123\u001b[0m \u001b[1;33m\u001b[0m\u001b[0m\n\u001b[1;32m-> 1124\u001b[1;33m         formatted_exception = self.format_exception_as_a_whole(etype, evalue, etb, number_of_lines_of_context,\n\u001b[0m\u001b[0;32m   1125\u001b[0m                                                                tb_offset)\n\u001b[0;32m   1126\u001b[0m \u001b[1;33m\u001b[0m\u001b[0m\n",
      "\u001b[1;32mC:\\ProgramData\\Anaconda3\\envs\\yelp\\lib\\site-packages\\IPython\\core\\ultratb.py\u001b[0m in \u001b[0;36mformat_exception_as_a_whole\u001b[1;34m(self, etype, evalue, etb, number_of_lines_of_context, tb_offset)\u001b[0m\n\u001b[0;32m   1080\u001b[0m \u001b[1;33m\u001b[0m\u001b[0m\n\u001b[0;32m   1081\u001b[0m \u001b[1;33m\u001b[0m\u001b[0m\n\u001b[1;32m-> 1082\u001b[1;33m         \u001b[0mlast_unique\u001b[0m\u001b[1;33m,\u001b[0m \u001b[0mrecursion_repeat\u001b[0m \u001b[1;33m=\u001b[0m \u001b[0mfind_recursion\u001b[0m\u001b[1;33m(\u001b[0m\u001b[0morig_etype\u001b[0m\u001b[1;33m,\u001b[0m \u001b[0mevalue\u001b[0m\u001b[1;33m,\u001b[0m \u001b[0mrecords\u001b[0m\u001b[1;33m)\u001b[0m\u001b[1;33m\u001b[0m\u001b[1;33m\u001b[0m\u001b[0m\n\u001b[0m\u001b[0;32m   1083\u001b[0m \u001b[1;33m\u001b[0m\u001b[0m\n\u001b[0;32m   1084\u001b[0m         \u001b[0mframes\u001b[0m \u001b[1;33m=\u001b[0m \u001b[0mself\u001b[0m\u001b[1;33m.\u001b[0m\u001b[0mformat_records\u001b[0m\u001b[1;33m(\u001b[0m\u001b[0mrecords\u001b[0m\u001b[1;33m,\u001b[0m \u001b[0mlast_unique\u001b[0m\u001b[1;33m,\u001b[0m \u001b[0mrecursion_repeat\u001b[0m\u001b[1;33m)\u001b[0m\u001b[1;33m\u001b[0m\u001b[1;33m\u001b[0m\u001b[0m\n",
      "\u001b[1;32mC:\\ProgramData\\Anaconda3\\envs\\yelp\\lib\\site-packages\\IPython\\core\\ultratb.py\u001b[0m in \u001b[0;36mfind_recursion\u001b[1;34m(etype, value, records)\u001b[0m\n\u001b[0;32m    380\u001b[0m     \u001b[1;31m# first frame (from in to out) that looks different.\u001b[0m\u001b[1;33m\u001b[0m\u001b[1;33m\u001b[0m\u001b[1;33m\u001b[0m\u001b[0m\n\u001b[0;32m    381\u001b[0m     \u001b[1;32mif\u001b[0m \u001b[1;32mnot\u001b[0m \u001b[0mis_recursion_error\u001b[0m\u001b[1;33m(\u001b[0m\u001b[0metype\u001b[0m\u001b[1;33m,\u001b[0m \u001b[0mvalue\u001b[0m\u001b[1;33m,\u001b[0m \u001b[0mrecords\u001b[0m\u001b[1;33m)\u001b[0m\u001b[1;33m:\u001b[0m\u001b[1;33m\u001b[0m\u001b[1;33m\u001b[0m\u001b[0m\n\u001b[1;32m--> 382\u001b[1;33m         \u001b[1;32mreturn\u001b[0m \u001b[0mlen\u001b[0m\u001b[1;33m(\u001b[0m\u001b[0mrecords\u001b[0m\u001b[1;33m)\u001b[0m\u001b[1;33m,\u001b[0m \u001b[1;36m0\u001b[0m\u001b[1;33m\u001b[0m\u001b[1;33m\u001b[0m\u001b[0m\n\u001b[0m\u001b[0;32m    383\u001b[0m \u001b[1;33m\u001b[0m\u001b[0m\n\u001b[0;32m    384\u001b[0m     \u001b[1;31m# Select filename, lineno, func_name to track frames with\u001b[0m\u001b[1;33m\u001b[0m\u001b[1;33m\u001b[0m\u001b[1;33m\u001b[0m\u001b[0m\n",
      "\u001b[1;31mTypeError\u001b[0m: object of type 'NoneType' has no len()"
     ]
    }
   ],
   "source": [
    "reviews.to_pickle('../data/restaurant_reviews.pkl')"
   ]
  },
  {
   "cell_type": "markdown",
   "id": "7adf5853-67cb-45f0-98b6-85de60e71532",
   "metadata": {},
   "source": [
    "Preprocess text of reviews.\n",
    "We want to:\n",
    "* stem words\n",
    "* remove extra whitespaces\n",
    "* lower case"
   ]
  },
  {
   "cell_type": "code",
   "execution_count": 31,
   "id": "9931a99d-f49a-43f8-8c0d-8ef0a2091942",
   "metadata": {},
   "outputs": [
    {
     "data": {
      "text/plain": [
       "0    apparently prides osteria had a rough summer a...\n",
       "1    i've stayed at many marriott and renaissance m...\n",
       "2    the food is always great here the service from...\n",
       "3    this place used to be a cool chill place now i...\n",
       "4    the setting is perfectly adequate and the food...\n",
       "Name: text_processed, dtype: object"
      ]
     },
     "execution_count": 31,
     "metadata": {},
     "output_type": "execute_result"
    }
   ],
   "source": [
    "# Load the regular expression library\n",
    "import re\n",
    "# Remove punctuation\n",
    "reviews['text_processed'] = \\\n",
    "reviews['text'].map(lambda x: re.sub('[,\\.!?]', '', x))\n",
    "# Convert the titles to lowercase\n",
    "reviews['text_processed'] = \\\n",
    "reviews['text_processed'].map(lambda x: x.lower())\n",
    "# Print out the first rows of papers\n",
    "reviews['text_processed'].head()"
   ]
  },
  {
   "cell_type": "code",
   "execution_count": 32,
   "id": "acf9b21f-8ad9-4a28-95b7-ba7089b1db6c",
   "metadata": {},
   "outputs": [
    {
     "data": {
      "text/plain": [
       "(5575349, 10)"
      ]
     },
     "execution_count": 32,
     "metadata": {},
     "output_type": "execute_result"
    }
   ],
   "source": [
    "reviews.shape"
   ]
  },
  {
   "cell_type": "markdown",
   "id": "9b0dcee5-d383-4602-a99c-2b0bf15a4fdc",
   "metadata": {},
   "source": [
    "## Wordcloud\n",
    "Check the word distributions of the texts."
   ]
  },
  {
   "cell_type": "code",
   "execution_count": null,
   "id": "2e95ff22-8b8f-4f9f-83b9-e84ea7830397",
   "metadata": {},
   "outputs": [],
   "source": [
    "# Import the wordcloud library\n",
    "from wordcloud import WordCloud\n",
    "# Join the different processed titles together.\n",
    "long_string = ','.join(list(reviews['text_processed'].values))\n",
    "# Create a WordCloud object\n",
    "wordcloud = WordCloud(background_color=\"white\", max_words=5000, contour_width=3, contour_color='steelblue')\n",
    "# Generate a word cloud\n",
    "wordcloud.generate(long_string)\n",
    "# Visualize the word cloud\n",
    "wordcloud.to_image()"
   ]
  },
  {
   "cell_type": "code",
   "execution_count": null,
   "id": "77fed897-efb5-4d0d-a703-a54b08cdb1cf",
   "metadata": {},
   "outputs": [],
   "source": []
  }
 ],
 "metadata": {
  "kernelspec": {
   "display_name": "Python 3 (ipykernel)",
   "language": "python",
   "name": "python3"
  },
  "language_info": {
   "codemirror_mode": {
    "name": "ipython",
    "version": 3
   },
   "file_extension": ".py",
   "mimetype": "text/x-python",
   "name": "python",
   "nbconvert_exporter": "python",
   "pygments_lexer": "ipython3",
   "version": "3.8.12"
  }
 },
 "nbformat": 4,
 "nbformat_minor": 5
}

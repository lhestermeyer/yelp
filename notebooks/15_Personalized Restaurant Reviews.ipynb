{
 "cells": [
  {
   "cell_type": "code",
   "execution_count": 1,
   "id": "db201c3d-e404-4141-b486-c58cdb75737c",
   "metadata": {},
   "outputs": [],
   "source": [
    "import pandas as pd\n",
    "import numpy as np"
   ]
  },
  {
   "cell_type": "code",
   "execution_count": 5,
   "id": "5e2012fe-aa25-4300-a632-7bfd5cab36cb",
   "metadata": {},
   "outputs": [],
   "source": [
    "size = 1000000\n",
    "user_chunks = pd.read_json('../data/yelp_academic_dataset_user.json', lines=True,\n",
    "                    dtype = {\n",
    "                        \"review_count\": np.int16,\n",
    "                        \"useful\": np.int16,\n",
    "                        \"funny\": np.int16,\n",
    "                        \"cool\": np.int16,\n",
    "                        \"fans\": np.int16,\n",
    "                        \"average_stars\": np.float32, # calculations are done on float32 anyways for float16\n",
    "                        \"compliment_hot\": np.int16,\n",
    "                        \"compliment_more\": np.int16,\n",
    "                        \"compliment_profile\": np.int16,\n",
    "                        \"compliment_cute\": np.int16,\n",
    "                        \"compliment_list\": np.int16,\n",
    "                        \"compliment_note\": np.int16,\n",
    "                        \"compliment_plain\": np.int16,\n",
    "                        \"compliment_cool\": np.int16,\n",
    "                        \"compliment_funny\": np.int16,\n",
    "                        \"compliment_writer\": np.int16,\n",
    "                        \"compliment_photos\": np.int16\n",
    "                    }, chunksize=size)"
   ]
  },
  {
   "cell_type": "code",
   "execution_count": 6,
   "id": "58d62352-23ab-4579-87b7-85093be7a671",
   "metadata": {},
   "outputs": [
    {
     "name": "stderr",
     "output_type": "stream",
     "text": [
      "\n",
      "KeyboardInterrupt\n",
      "\n"
     ]
    }
   ],
   "source": [
    "chunk_list = []\n",
    "for chunk in user_chunks:\n",
    "    # only keep tips of current or former elite users.\n",
    "    chunk = chunk[chunk.user_id.isin(elite_user_ids)]\n",
    "    chunk_list.append(chunk)\n",
    "\n",
    "user = pd.concat(chunk_list, ignore_index=True, join='outer', axis=0)"
   ]
  },
  {
   "cell_type": "markdown",
   "id": "648c8a39-36b0-4d90-9b63-ebd3943dc934",
   "metadata": {},
   "source": [
    "# Read businesses\n",
    "Keep only true restaurants"
   ]
  },
  {
   "cell_type": "code",
   "execution_count": 21,
   "id": "8885b944-af4e-46f4-a7c1-feae36607192",
   "metadata": {},
   "outputs": [],
   "source": [
    "size = 100000\n",
    "business_chunks = pd.read_json('../data/yelp_academic_dataset_business.json', lines=True,\n",
    "                    dtype={\n",
    "                        \"business_id\": str,\n",
    "                        \"name\": str,\n",
    "                        \"address\": str,\n",
    "                        \"city\": str,\n",
    "                        \"state\": str,\n",
    "                        \"postal code\": str,\n",
    "                        \"latitude\": float,\n",
    "                        \"longitude\": float,\n",
    "                        \"stars\": float,\n",
    "                        \"review_count\": int,\n",
    "                        \"is_open\": int\n",
    "                    }, chunksize=size)\n",
    "\n",
    "chunk_list = []\n",
    "for chunk in business_chunks:\n",
    "    chunk = chunk[chunk['categories'].notnull()]\n",
    "    \n",
    "    # only keep restaurants\n",
    "    chunk = chunk.loc[[('Restaurant' in x) for x in chunk['categories']]]\n",
    "    \n",
    "    # chunk = chunk[chunk['city'] == 'Las Vegas']\n",
    "    \n",
    "    # only certain columns\n",
    "    # chunk = chunk[['business_id', 'name','stars', 'is_open','review_count']]\n",
    "    \n",
    "    chunk_list.append(chunk)\n",
    "    \n",
    "restaurants = pd.concat(chunk_list, ignore_index=True, join='outer', axis=0)\n"
   ]
  },
  {
   "cell_type": "code",
   "execution_count": 22,
   "id": "8f826f8b-1757-4baa-95a9-c61e8bece401",
   "metadata": {},
   "outputs": [
    {
     "data": {
      "text/plain": [
       "array(['CO', 'OR', 'BC', 'OH', 'MA', 'FL', 'TX', 'GA', 'WA', 'KS', 'MN',\n",
       "       'VA', 'WY', 'KY', 'NH', 'ABE'], dtype=object)"
      ]
     },
     "execution_count": 22,
     "metadata": {},
     "output_type": "execute_result"
    }
   ],
   "source": [
    "restaurants.state.unique()"
   ]
  },
  {
   "cell_type": "code",
   "execution_count": 27,
   "id": "cf98271d-4182-4c48-a307-af8d2e7cf3f7",
   "metadata": {},
   "outputs": [
    {
     "data": {
      "text/plain": [
       "city\n",
       "Portland        5737\n",
       "Vancouver       5029\n",
       "Austin          4965\n",
       "Atlanta         4180\n",
       "Orlando         3749\n",
       "                ... \n",
       "Rockport           1\n",
       "Happy valley       1\n",
       "Hapevile           1\n",
       "Hanover            1\n",
       "portland           1\n",
       "Length: 459, dtype: int64"
      ]
     },
     "execution_count": 27,
     "metadata": {},
     "output_type": "execute_result"
    }
   ],
   "source": [
    "restaurants.groupby('city').size().sort_values(ascending=False)"
   ]
  },
  {
   "cell_type": "code",
   "execution_count": 30,
   "id": "71c81378-e4b1-4b1b-8c0b-544cfaf0d0bc",
   "metadata": {},
   "outputs": [],
   "source": [
    "restaurants = restaurants[restaurants.city == 'Portland']"
   ]
  },
  {
   "cell_type": "code",
   "execution_count": 34,
   "id": "46885bc8-c035-42fb-a844-472ff4cddeb7",
   "metadata": {},
   "outputs": [],
   "source": [
    "restaurants.to_csv('../data/restaurants.csv')"
   ]
  },
  {
   "cell_type": "code",
   "execution_count": 23,
   "id": "60bc8c96-bd45-463c-a5ec-28f9ad00e6aa",
   "metadata": {},
   "outputs": [],
   "source": [
    "attributes = list(set([attribute for attributes in restaurants.attributes.values  if attributes is not None for attribute in attributes]))"
   ]
  },
  {
   "cell_type": "markdown",
   "id": "c2f26572-c411-417e-8bcf-2b651d53cfa8",
   "metadata": {},
   "source": [
    "# Read Reviews"
   ]
  },
  {
   "cell_type": "code",
   "execution_count": 35,
   "id": "75929f13-ab74-439f-ab11-da1a3c34a49f",
   "metadata": {},
   "outputs": [],
   "source": [
    "restaurant_ids = restaurants.business_id.values"
   ]
  },
  {
   "cell_type": "code",
   "execution_count": 36,
   "id": "3602b2d5-9b20-4f7d-bdb3-b955de6050b4",
   "metadata": {},
   "outputs": [],
   "source": [
    "size = 1000000\n",
    "review_chunks = pd.read_json('../data/yelp_academic_dataset_review.json', lines=True,\n",
    "                    dtype={\n",
    "                    \"review_id\": str,\n",
    "                    \"user_id\": str,\n",
    "                    \"business_id\": str,\n",
    "                    \"stars\": int,\n",
    "                    \"date\": str,\n",
    "                    \"text\": str,\n",
    "                    \"useful\": int,\n",
    "                    \"funny\": int,\n",
    "                    \"cool\": int,\n",
    "                }, chunksize=size)\n",
    "\n",
    "chunk_list = []\n",
    "for chunk in review_chunks:\n",
    "    # only keep tips of current or former elite users.\n",
    "    chunk = chunk[chunk.business_id.isin(restaurant_ids)]\n",
    "    chunk_list.append(chunk)\n",
    "\n",
    "reviews = pd.concat(chunk_list, ignore_index=True, join='outer', axis=0)"
   ]
  },
  {
   "cell_type": "code",
   "execution_count": 37,
   "id": "6b3047ab-00e1-45ea-bbb4-e6696b4aeec0",
   "metadata": {},
   "outputs": [
    {
     "data": {
      "text/plain": [
       "(752143, 9)"
      ]
     },
     "execution_count": 37,
     "metadata": {},
     "output_type": "execute_result"
    }
   ],
   "source": [
    "reviews.shape"
   ]
  },
  {
   "cell_type": "code",
   "execution_count": 38,
   "id": "ed236d59-2f63-4950-b841-83eca4005e14",
   "metadata": {},
   "outputs": [],
   "source": [
    "reviews.to_csv('../data/restaurant_reviews.csv', index=False)"
   ]
  },
  {
   "cell_type": "code",
   "execution_count": 30,
   "id": "17f98b4b-9f63-4cde-b5f1-6a11951b1806",
   "metadata": {
    "collapsed": true,
    "jupyter": {
     "outputs_hidden": true
    },
    "tags": []
   },
   "outputs": [
    {
     "name": "stderr",
     "output_type": "stream",
     "text": [
      "ERROR:root:Internal Python error in the inspect module.\n",
      "Below is the traceback from this internal error.\n",
      "\n"
     ]
    },
    {
     "name": "stdout",
     "output_type": "stream",
     "text": [
      "Traceback (most recent call last):\n",
      "  File \"C:\\ProgramData\\Anaconda3\\envs\\yelp\\lib\\site-packages\\IPython\\core\\interactiveshell.py\", line 3444, in run_code\n",
      "    exec(code_obj, self.user_global_ns, self.user_ns)\n",
      "  File \"C:\\Users\\lukas\\AppData\\Local\\Temp/ipykernel_6496/2807565378.py\", line 1, in <module>\n",
      "    reviews.to_pickle('../data/restaurant_reviews.pkl')\n",
      "  File \"C:\\ProgramData\\Anaconda3\\envs\\yelp\\lib\\site-packages\\pandas\\core\\generic.py\", line 2957, in to_pickle\n",
      "    to_pickle(\n",
      "  File \"C:\\ProgramData\\Anaconda3\\envs\\yelp\\lib\\site-packages\\pandas\\io\\pickle.py\", line 113, in to_pickle\n",
      "    pickle.dump(\n",
      "KeyboardInterrupt\n",
      "\n",
      "During handling of the above exception, another exception occurred:\n",
      "\n",
      "Traceback (most recent call last):\n",
      "  File \"C:\\ProgramData\\Anaconda3\\envs\\yelp\\lib\\site-packages\\IPython\\core\\interactiveshell.py\", line 2064, in showtraceback\n",
      "    stb = value._render_traceback_()\n",
      "AttributeError: 'KeyboardInterrupt' object has no attribute '_render_traceback_'\n",
      "\n",
      "During handling of the above exception, another exception occurred:\n",
      "\n",
      "Traceback (most recent call last):\n",
      "  File \"C:\\ProgramData\\Anaconda3\\envs\\yelp\\lib\\site-packages\\IPython\\core\\ultratb.py\", line 1101, in get_records\n",
      "    return _fixed_getinnerframes(etb, number_of_lines_of_context, tb_offset)\n",
      "  File \"C:\\ProgramData\\Anaconda3\\envs\\yelp\\lib\\site-packages\\IPython\\core\\ultratb.py\", line 248, in wrapped\n",
      "    return f(*args, **kwargs)\n",
      "  File \"C:\\ProgramData\\Anaconda3\\envs\\yelp\\lib\\site-packages\\IPython\\core\\ultratb.py\", line 281, in _fixed_getinnerframes\n",
      "    records = fix_frame_records_filenames(inspect.getinnerframes(etb, context))\n",
      "  File \"C:\\ProgramData\\Anaconda3\\envs\\yelp\\lib\\inspect.py\", line 1515, in getinnerframes\n",
      "    frameinfo = (tb.tb_frame,) + getframeinfo(tb, context)\n",
      "  File \"C:\\ProgramData\\Anaconda3\\envs\\yelp\\lib\\inspect.py\", line 1473, in getframeinfo\n",
      "    filename = getsourcefile(frame) or getfile(frame)\n",
      "  File \"C:\\ProgramData\\Anaconda3\\envs\\yelp\\lib\\inspect.py\", line 708, in getsourcefile\n",
      "    if getattr(getmodule(object, filename), '__loader__', None) is not None:\n",
      "  File \"C:\\ProgramData\\Anaconda3\\envs\\yelp\\lib\\inspect.py\", line 746, in getmodule\n",
      "    f = module.__file__\n",
      "KeyboardInterrupt\n"
     ]
    },
    {
     "ename": "TypeError",
     "evalue": "object of type 'NoneType' has no len()",
     "output_type": "error",
     "traceback": [
      "\u001b[1;31m---------------------------------------------------------------------------\u001b[0m",
      "\u001b[1;31mKeyboardInterrupt\u001b[0m                         Traceback (most recent call last)",
      "    \u001b[1;31m[... skipping hidden 1 frame]\u001b[0m\n",
      "\u001b[1;32m~\\AppData\\Local\\Temp/ipykernel_6496/2807565378.py\u001b[0m in \u001b[0;36m<module>\u001b[1;34m\u001b[0m\n\u001b[1;32m----> 1\u001b[1;33m \u001b[0mreviews\u001b[0m\u001b[1;33m.\u001b[0m\u001b[0mto_pickle\u001b[0m\u001b[1;33m(\u001b[0m\u001b[1;34m'../data/restaurant_reviews.pkl'\u001b[0m\u001b[1;33m)\u001b[0m\u001b[1;33m\u001b[0m\u001b[1;33m\u001b[0m\u001b[0m\n\u001b[0m",
      "\u001b[1;32mC:\\ProgramData\\Anaconda3\\envs\\yelp\\lib\\site-packages\\pandas\\core\\generic.py\u001b[0m in \u001b[0;36mto_pickle\u001b[1;34m(self, path, compression, protocol, storage_options)\u001b[0m\n\u001b[0;32m   2956\u001b[0m \u001b[1;33m\u001b[0m\u001b[0m\n\u001b[1;32m-> 2957\u001b[1;33m         to_pickle(\n\u001b[0m\u001b[0;32m   2958\u001b[0m             \u001b[0mself\u001b[0m\u001b[1;33m,\u001b[0m\u001b[1;33m\u001b[0m\u001b[1;33m\u001b[0m\u001b[0m\n",
      "\u001b[1;32mC:\\ProgramData\\Anaconda3\\envs\\yelp\\lib\\site-packages\\pandas\\io\\pickle.py\u001b[0m in \u001b[0;36mto_pickle\u001b[1;34m(obj, filepath_or_buffer, compression, protocol, storage_options)\u001b[0m\n\u001b[0;32m    112\u001b[0m             \u001b[1;31m# letting pickle write directly to the buffer is more memory-efficient\u001b[0m\u001b[1;33m\u001b[0m\u001b[1;33m\u001b[0m\u001b[1;33m\u001b[0m\u001b[0m\n\u001b[1;32m--> 113\u001b[1;33m             pickle.dump(\n\u001b[0m\u001b[0;32m    114\u001b[0m                 \u001b[1;31m# error: Argument 2 to \"dump\" has incompatible type \"Union[IO[Any],\u001b[0m\u001b[1;33m\u001b[0m\u001b[1;33m\u001b[0m\u001b[1;33m\u001b[0m\u001b[0m\n",
      "\u001b[1;31mKeyboardInterrupt\u001b[0m: ",
      "\nDuring handling of the above exception, another exception occurred:\n",
      "\u001b[1;31mAttributeError\u001b[0m                            Traceback (most recent call last)",
      "\u001b[1;32mC:\\ProgramData\\Anaconda3\\envs\\yelp\\lib\\site-packages\\IPython\\core\\interactiveshell.py\u001b[0m in \u001b[0;36mshowtraceback\u001b[1;34m(self, exc_tuple, filename, tb_offset, exception_only, running_compiled_code)\u001b[0m\n\u001b[0;32m   2063\u001b[0m                         \u001b[1;31m# in the engines. This should return a list of strings.\u001b[0m\u001b[1;33m\u001b[0m\u001b[1;33m\u001b[0m\u001b[1;33m\u001b[0m\u001b[0m\n\u001b[1;32m-> 2064\u001b[1;33m                         \u001b[0mstb\u001b[0m \u001b[1;33m=\u001b[0m \u001b[0mvalue\u001b[0m\u001b[1;33m.\u001b[0m\u001b[0m_render_traceback_\u001b[0m\u001b[1;33m(\u001b[0m\u001b[1;33m)\u001b[0m\u001b[1;33m\u001b[0m\u001b[1;33m\u001b[0m\u001b[0m\n\u001b[0m\u001b[0;32m   2065\u001b[0m                     \u001b[1;32mexcept\u001b[0m \u001b[0mException\u001b[0m\u001b[1;33m:\u001b[0m\u001b[1;33m\u001b[0m\u001b[1;33m\u001b[0m\u001b[0m\n",
      "\u001b[1;31mAttributeError\u001b[0m: 'KeyboardInterrupt' object has no attribute '_render_traceback_'",
      "\nDuring handling of the above exception, another exception occurred:\n",
      "\u001b[1;31mTypeError\u001b[0m                                 Traceback (most recent call last)",
      "    \u001b[1;31m[... skipping hidden 1 frame]\u001b[0m\n",
      "\u001b[1;32mC:\\ProgramData\\Anaconda3\\envs\\yelp\\lib\\site-packages\\IPython\\core\\interactiveshell.py\u001b[0m in \u001b[0;36mshowtraceback\u001b[1;34m(self, exc_tuple, filename, tb_offset, exception_only, running_compiled_code)\u001b[0m\n\u001b[0;32m   2064\u001b[0m                         \u001b[0mstb\u001b[0m \u001b[1;33m=\u001b[0m \u001b[0mvalue\u001b[0m\u001b[1;33m.\u001b[0m\u001b[0m_render_traceback_\u001b[0m\u001b[1;33m(\u001b[0m\u001b[1;33m)\u001b[0m\u001b[1;33m\u001b[0m\u001b[1;33m\u001b[0m\u001b[0m\n\u001b[0;32m   2065\u001b[0m                     \u001b[1;32mexcept\u001b[0m \u001b[0mException\u001b[0m\u001b[1;33m:\u001b[0m\u001b[1;33m\u001b[0m\u001b[1;33m\u001b[0m\u001b[0m\n\u001b[1;32m-> 2066\u001b[1;33m                         stb = self.InteractiveTB.structured_traceback(etype,\n\u001b[0m\u001b[0;32m   2067\u001b[0m                                             value, tb, tb_offset=tb_offset)\n\u001b[0;32m   2068\u001b[0m \u001b[1;33m\u001b[0m\u001b[0m\n",
      "\u001b[1;32mC:\\ProgramData\\Anaconda3\\envs\\yelp\\lib\\site-packages\\IPython\\core\\ultratb.py\u001b[0m in \u001b[0;36mstructured_traceback\u001b[1;34m(self, etype, value, tb, tb_offset, number_of_lines_of_context)\u001b[0m\n\u001b[0;32m   1365\u001b[0m         \u001b[1;32melse\u001b[0m\u001b[1;33m:\u001b[0m\u001b[1;33m\u001b[0m\u001b[1;33m\u001b[0m\u001b[0m\n\u001b[0;32m   1366\u001b[0m             \u001b[0mself\u001b[0m\u001b[1;33m.\u001b[0m\u001b[0mtb\u001b[0m \u001b[1;33m=\u001b[0m \u001b[0mtb\u001b[0m\u001b[1;33m\u001b[0m\u001b[1;33m\u001b[0m\u001b[0m\n\u001b[1;32m-> 1367\u001b[1;33m         return FormattedTB.structured_traceback(\n\u001b[0m\u001b[0;32m   1368\u001b[0m             self, etype, value, tb, tb_offset, number_of_lines_of_context)\n\u001b[0;32m   1369\u001b[0m \u001b[1;33m\u001b[0m\u001b[0m\n",
      "\u001b[1;32mC:\\ProgramData\\Anaconda3\\envs\\yelp\\lib\\site-packages\\IPython\\core\\ultratb.py\u001b[0m in \u001b[0;36mstructured_traceback\u001b[1;34m(self, etype, value, tb, tb_offset, number_of_lines_of_context)\u001b[0m\n\u001b[0;32m   1265\u001b[0m         \u001b[1;32mif\u001b[0m \u001b[0mmode\u001b[0m \u001b[1;32min\u001b[0m \u001b[0mself\u001b[0m\u001b[1;33m.\u001b[0m\u001b[0mverbose_modes\u001b[0m\u001b[1;33m:\u001b[0m\u001b[1;33m\u001b[0m\u001b[1;33m\u001b[0m\u001b[0m\n\u001b[0;32m   1266\u001b[0m             \u001b[1;31m# Verbose modes need a full traceback\u001b[0m\u001b[1;33m\u001b[0m\u001b[1;33m\u001b[0m\u001b[1;33m\u001b[0m\u001b[0m\n\u001b[1;32m-> 1267\u001b[1;33m             return VerboseTB.structured_traceback(\n\u001b[0m\u001b[0;32m   1268\u001b[0m                 \u001b[0mself\u001b[0m\u001b[1;33m,\u001b[0m \u001b[0metype\u001b[0m\u001b[1;33m,\u001b[0m \u001b[0mvalue\u001b[0m\u001b[1;33m,\u001b[0m \u001b[0mtb\u001b[0m\u001b[1;33m,\u001b[0m \u001b[0mtb_offset\u001b[0m\u001b[1;33m,\u001b[0m \u001b[0mnumber_of_lines_of_context\u001b[0m\u001b[1;33m\u001b[0m\u001b[1;33m\u001b[0m\u001b[0m\n\u001b[0;32m   1269\u001b[0m             )\n",
      "\u001b[1;32mC:\\ProgramData\\Anaconda3\\envs\\yelp\\lib\\site-packages\\IPython\\core\\ultratb.py\u001b[0m in \u001b[0;36mstructured_traceback\u001b[1;34m(self, etype, evalue, etb, tb_offset, number_of_lines_of_context)\u001b[0m\n\u001b[0;32m   1122\u001b[0m         \u001b[1;34m\"\"\"Return a nice text document describing the traceback.\"\"\"\u001b[0m\u001b[1;33m\u001b[0m\u001b[1;33m\u001b[0m\u001b[0m\n\u001b[0;32m   1123\u001b[0m \u001b[1;33m\u001b[0m\u001b[0m\n\u001b[1;32m-> 1124\u001b[1;33m         formatted_exception = self.format_exception_as_a_whole(etype, evalue, etb, number_of_lines_of_context,\n\u001b[0m\u001b[0;32m   1125\u001b[0m                                                                tb_offset)\n\u001b[0;32m   1126\u001b[0m \u001b[1;33m\u001b[0m\u001b[0m\n",
      "\u001b[1;32mC:\\ProgramData\\Anaconda3\\envs\\yelp\\lib\\site-packages\\IPython\\core\\ultratb.py\u001b[0m in \u001b[0;36mformat_exception_as_a_whole\u001b[1;34m(self, etype, evalue, etb, number_of_lines_of_context, tb_offset)\u001b[0m\n\u001b[0;32m   1080\u001b[0m \u001b[1;33m\u001b[0m\u001b[0m\n\u001b[0;32m   1081\u001b[0m \u001b[1;33m\u001b[0m\u001b[0m\n\u001b[1;32m-> 1082\u001b[1;33m         \u001b[0mlast_unique\u001b[0m\u001b[1;33m,\u001b[0m \u001b[0mrecursion_repeat\u001b[0m \u001b[1;33m=\u001b[0m \u001b[0mfind_recursion\u001b[0m\u001b[1;33m(\u001b[0m\u001b[0morig_etype\u001b[0m\u001b[1;33m,\u001b[0m \u001b[0mevalue\u001b[0m\u001b[1;33m,\u001b[0m \u001b[0mrecords\u001b[0m\u001b[1;33m)\u001b[0m\u001b[1;33m\u001b[0m\u001b[1;33m\u001b[0m\u001b[0m\n\u001b[0m\u001b[0;32m   1083\u001b[0m \u001b[1;33m\u001b[0m\u001b[0m\n\u001b[0;32m   1084\u001b[0m         \u001b[0mframes\u001b[0m \u001b[1;33m=\u001b[0m \u001b[0mself\u001b[0m\u001b[1;33m.\u001b[0m\u001b[0mformat_records\u001b[0m\u001b[1;33m(\u001b[0m\u001b[0mrecords\u001b[0m\u001b[1;33m,\u001b[0m \u001b[0mlast_unique\u001b[0m\u001b[1;33m,\u001b[0m \u001b[0mrecursion_repeat\u001b[0m\u001b[1;33m)\u001b[0m\u001b[1;33m\u001b[0m\u001b[1;33m\u001b[0m\u001b[0m\n",
      "\u001b[1;32mC:\\ProgramData\\Anaconda3\\envs\\yelp\\lib\\site-packages\\IPython\\core\\ultratb.py\u001b[0m in \u001b[0;36mfind_recursion\u001b[1;34m(etype, value, records)\u001b[0m\n\u001b[0;32m    380\u001b[0m     \u001b[1;31m# first frame (from in to out) that looks different.\u001b[0m\u001b[1;33m\u001b[0m\u001b[1;33m\u001b[0m\u001b[1;33m\u001b[0m\u001b[0m\n\u001b[0;32m    381\u001b[0m     \u001b[1;32mif\u001b[0m \u001b[1;32mnot\u001b[0m \u001b[0mis_recursion_error\u001b[0m\u001b[1;33m(\u001b[0m\u001b[0metype\u001b[0m\u001b[1;33m,\u001b[0m \u001b[0mvalue\u001b[0m\u001b[1;33m,\u001b[0m \u001b[0mrecords\u001b[0m\u001b[1;33m)\u001b[0m\u001b[1;33m:\u001b[0m\u001b[1;33m\u001b[0m\u001b[1;33m\u001b[0m\u001b[0m\n\u001b[1;32m--> 382\u001b[1;33m         \u001b[1;32mreturn\u001b[0m \u001b[0mlen\u001b[0m\u001b[1;33m(\u001b[0m\u001b[0mrecords\u001b[0m\u001b[1;33m)\u001b[0m\u001b[1;33m,\u001b[0m \u001b[1;36m0\u001b[0m\u001b[1;33m\u001b[0m\u001b[1;33m\u001b[0m\u001b[0m\n\u001b[0m\u001b[0;32m    383\u001b[0m \u001b[1;33m\u001b[0m\u001b[0m\n\u001b[0;32m    384\u001b[0m     \u001b[1;31m# Select filename, lineno, func_name to track frames with\u001b[0m\u001b[1;33m\u001b[0m\u001b[1;33m\u001b[0m\u001b[1;33m\u001b[0m\u001b[0m\n",
      "\u001b[1;31mTypeError\u001b[0m: object of type 'NoneType' has no len()"
     ]
    }
   ],
   "source": [
    "reviews.to_pickle('../data/restaurant_reviews.pkl')"
   ]
  },
  {
   "cell_type": "markdown",
   "id": "7adf5853-67cb-45f0-98b6-85de60e71532",
   "metadata": {},
   "source": [
    "Preprocess text of reviews.\n",
    "We want to:\n",
    "* stem words\n",
    "* remove extra whitespaces\n",
    "* lower case"
   ]
  },
  {
   "cell_type": "code",
   "execution_count": 31,
   "id": "9931a99d-f49a-43f8-8c0d-8ef0a2091942",
   "metadata": {},
   "outputs": [
    {
     "data": {
      "text/plain": [
       "0    apparently prides osteria had a rough summer a...\n",
       "1    i've stayed at many marriott and renaissance m...\n",
       "2    the food is always great here the service from...\n",
       "3    this place used to be a cool chill place now i...\n",
       "4    the setting is perfectly adequate and the food...\n",
       "Name: text_processed, dtype: object"
      ]
     },
     "execution_count": 31,
     "metadata": {},
     "output_type": "execute_result"
    }
   ],
   "source": [
    "# Load the regular expression library\n",
    "import re\n",
    "# Remove punctuation\n",
    "reviews['text_processed'] = \\\n",
    "reviews['text'].map(lambda x: re.sub('[,\\.!?]', '', x))\n",
    "# Convert the titles to lowercase\n",
    "reviews['text_processed'] = \\\n",
    "reviews['text_processed'].map(lambda x: x.lower())\n",
    "# Print out the first rows of papers\n",
    "reviews['text_processed'].head()"
   ]
  },
  {
   "cell_type": "code",
   "execution_count": 32,
   "id": "acf9b21f-8ad9-4a28-95b7-ba7089b1db6c",
   "metadata": {},
   "outputs": [
    {
     "data": {
      "text/plain": [
       "(5575349, 10)"
      ]
     },
     "execution_count": 32,
     "metadata": {},
     "output_type": "execute_result"
    }
   ],
   "source": [
    "reviews.shape"
   ]
  },
  {
   "cell_type": "markdown",
   "id": "9b0dcee5-d383-4602-a99c-2b0bf15a4fdc",
   "metadata": {},
   "source": [
    "## Wordcloud\n",
    "Check the word distributions of the texts."
   ]
  },
  {
   "cell_type": "code",
   "execution_count": null,
   "id": "2e95ff22-8b8f-4f9f-83b9-e84ea7830397",
   "metadata": {},
   "outputs": [],
   "source": [
    "# Import the wordcloud library\n",
    "from wordcloud import WordCloud\n",
    "# Join the different processed titles together.\n",
    "long_string = ','.join(list(reviews['text_processed'].values))\n",
    "# Create a WordCloud object\n",
    "wordcloud = WordCloud(background_color=\"white\", max_words=5000, contour_width=3, contour_color='steelblue')\n",
    "# Generate a word cloud\n",
    "wordcloud.generate(long_string)\n",
    "# Visualize the word cloud\n",
    "wordcloud.to_image()"
   ]
  },
  {
   "cell_type": "code",
   "execution_count": null,
   "id": "77fed897-efb5-4d0d-a703-a54b08cdb1cf",
   "metadata": {},
   "outputs": [],
   "source": []
  }
 ],
 "metadata": {
  "kernelspec": {
   "display_name": "Python 3 (ipykernel)",
   "language": "python",
   "name": "python3"
  },
  "language_info": {
   "codemirror_mode": {
    "name": "ipython",
    "version": 3
   },
   "file_extension": ".py",
   "mimetype": "text/x-python",
   "name": "python",
   "nbconvert_exporter": "python",
   "pygments_lexer": "ipython3",
   "version": "3.8.12"
  }
 },
 "nbformat": 4,
 "nbformat_minor": 5
}
